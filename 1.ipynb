{
 "cells": [
  {
   "cell_type": "code",
   "execution_count": 12,
   "metadata": {},
   "outputs": [],
   "source": [
    "import pandas as pd"
   ]
  },
  {
   "cell_type": "code",
   "execution_count": 13,
   "metadata": {},
   "outputs": [],
   "source": [
    "bitcoin = pd.read_excel('GDAX.BTC-USD_790301_230316.xlsx')\n",
    "smp500 = pd.read_csv('^spx_d (1).csv')"
   ]
  },
  {
   "cell_type": "code",
   "execution_count": 14,
   "metadata": {},
   "outputs": [
    {
     "data": {
      "text/html": [
       "<div>\n",
       "<style scoped>\n",
       "    .dataframe tbody tr th:only-of-type {\n",
       "        vertical-align: middle;\n",
       "    }\n",
       "\n",
       "    .dataframe tbody tr th {\n",
       "        vertical-align: top;\n",
       "    }\n",
       "\n",
       "    .dataframe thead th {\n",
       "        text-align: right;\n",
       "    }\n",
       "</style>\n",
       "<table border=\"1\" class=\"dataframe\">\n",
       "  <thead>\n",
       "    <tr style=\"text-align: right;\">\n",
       "      <th></th>\n",
       "      <th>Date</th>\n",
       "      <th>Open</th>\n",
       "      <th>High</th>\n",
       "    </tr>\n",
       "  </thead>\n",
       "  <tbody>\n",
       "    <tr>\n",
       "      <th>28</th>\n",
       "      <td>20150201</td>\n",
       "      <td>218.67</td>\n",
       "      <td>233.79</td>\n",
       "    </tr>\n",
       "    <tr>\n",
       "      <th>29</th>\n",
       "      <td>20150202</td>\n",
       "      <td>228.39</td>\n",
       "      <td>240.10</td>\n",
       "    </tr>\n",
       "    <tr>\n",
       "      <th>30</th>\n",
       "      <td>20150203</td>\n",
       "      <td>237.01</td>\n",
       "      <td>243.90</td>\n",
       "    </tr>\n",
       "    <tr>\n",
       "      <th>31</th>\n",
       "      <td>20150204</td>\n",
       "      <td>228.77</td>\n",
       "      <td>230.99</td>\n",
       "    </tr>\n",
       "    <tr>\n",
       "      <th>32</th>\n",
       "      <td>20150205</td>\n",
       "      <td>227.11</td>\n",
       "      <td>228.90</td>\n",
       "    </tr>\n",
       "    <tr>\n",
       "      <th>...</th>\n",
       "      <td>...</td>\n",
       "      <td>...</td>\n",
       "      <td>...</td>\n",
       "    </tr>\n",
       "    <tr>\n",
       "      <th>2985</th>\n",
       "      <td>20230312</td>\n",
       "      <td>20619.34</td>\n",
       "      <td>22276.69</td>\n",
       "    </tr>\n",
       "    <tr>\n",
       "      <th>2986</th>\n",
       "      <td>20230313</td>\n",
       "      <td>22216.02</td>\n",
       "      <td>24710.00</td>\n",
       "    </tr>\n",
       "    <tr>\n",
       "      <th>2987</th>\n",
       "      <td>20230314</td>\n",
       "      <td>24220.00</td>\n",
       "      <td>26553.90</td>\n",
       "    </tr>\n",
       "    <tr>\n",
       "      <th>2988</th>\n",
       "      <td>20230315</td>\n",
       "      <td>24761.61</td>\n",
       "      <td>25300.00</td>\n",
       "    </tr>\n",
       "    <tr>\n",
       "      <th>2989</th>\n",
       "      <td>20230316</td>\n",
       "      <td>24384.15</td>\n",
       "      <td>25043.97</td>\n",
       "    </tr>\n",
       "  </tbody>\n",
       "</table>\n",
       "<p>2962 rows × 3 columns</p>\n",
       "</div>"
      ],
      "text/plain": [
       "          Date      Open      High\n",
       "28    20150201    218.67    233.79\n",
       "29    20150202    228.39    240.10\n",
       "30    20150203    237.01    243.90\n",
       "31    20150204    228.77    230.99\n",
       "32    20150205    227.11    228.90\n",
       "...        ...       ...       ...\n",
       "2985  20230312  20619.34  22276.69\n",
       "2986  20230313  22216.02  24710.00\n",
       "2987  20230314  24220.00  26553.90\n",
       "2988  20230315  24761.61  25300.00\n",
       "2989  20230316  24384.15  25043.97\n",
       "\n",
       "[2962 rows x 3 columns]"
      ]
     },
     "execution_count": 14,
     "metadata": {},
     "output_type": "execute_result"
    }
   ],
   "source": [
    "bitcoin = bitcoin.iloc[:,[2,4,5]]\n",
    "bitcoin.drop(range(28), inplace=True)\n",
    "bitcoin.columns = ['Date', 'Open', 'High']\n",
    "bitcoin"
   ]
  },
  {
   "cell_type": "code",
   "execution_count": 15,
   "metadata": {},
   "outputs": [
    {
     "data": {
      "text/html": [
       "<div>\n",
       "<style scoped>\n",
       "    .dataframe tbody tr th:only-of-type {\n",
       "        vertical-align: middle;\n",
       "    }\n",
       "\n",
       "    .dataframe tbody tr th {\n",
       "        vertical-align: top;\n",
       "    }\n",
       "\n",
       "    .dataframe thead th {\n",
       "        text-align: right;\n",
       "    }\n",
       "</style>\n",
       "<table border=\"1\" class=\"dataframe\">\n",
       "  <thead>\n",
       "    <tr style=\"text-align: right;\">\n",
       "      <th></th>\n",
       "      <th>Date</th>\n",
       "      <th>Open</th>\n",
       "      <th>High</th>\n",
       "    </tr>\n",
       "  </thead>\n",
       "  <tbody>\n",
       "    <tr>\n",
       "      <th>36839</th>\n",
       "      <td>2015-01-02</td>\n",
       "      <td>2058.90</td>\n",
       "      <td>2072.36</td>\n",
       "    </tr>\n",
       "    <tr>\n",
       "      <th>36840</th>\n",
       "      <td>2015-01-05</td>\n",
       "      <td>2054.44</td>\n",
       "      <td>2054.44</td>\n",
       "    </tr>\n",
       "    <tr>\n",
       "      <th>36841</th>\n",
       "      <td>2015-01-06</td>\n",
       "      <td>2022.15</td>\n",
       "      <td>2030.25</td>\n",
       "    </tr>\n",
       "    <tr>\n",
       "      <th>36842</th>\n",
       "      <td>2015-01-07</td>\n",
       "      <td>2005.55</td>\n",
       "      <td>2029.61</td>\n",
       "    </tr>\n",
       "    <tr>\n",
       "      <th>36843</th>\n",
       "      <td>2015-01-08</td>\n",
       "      <td>2030.61</td>\n",
       "      <td>2064.08</td>\n",
       "    </tr>\n",
       "    <tr>\n",
       "      <th>...</th>\n",
       "      <td>...</td>\n",
       "      <td>...</td>\n",
       "      <td>...</td>\n",
       "    </tr>\n",
       "    <tr>\n",
       "      <th>38898</th>\n",
       "      <td>2023-03-09</td>\n",
       "      <td>3998.66</td>\n",
       "      <td>4017.81</td>\n",
       "    </tr>\n",
       "    <tr>\n",
       "      <th>38899</th>\n",
       "      <td>2023-03-10</td>\n",
       "      <td>3912.77</td>\n",
       "      <td>3934.05</td>\n",
       "    </tr>\n",
       "    <tr>\n",
       "      <th>38900</th>\n",
       "      <td>2023-03-13</td>\n",
       "      <td>3835.12</td>\n",
       "      <td>3905.05</td>\n",
       "    </tr>\n",
       "    <tr>\n",
       "      <th>38901</th>\n",
       "      <td>2023-03-14</td>\n",
       "      <td>3894.01</td>\n",
       "      <td>3937.29</td>\n",
       "    </tr>\n",
       "    <tr>\n",
       "      <th>38902</th>\n",
       "      <td>2023-03-15</td>\n",
       "      <td>3876.74</td>\n",
       "      <td>3894.26</td>\n",
       "    </tr>\n",
       "  </tbody>\n",
       "</table>\n",
       "<p>2064 rows × 3 columns</p>\n",
       "</div>"
      ],
      "text/plain": [
       "             Date     Open     High\n",
       "36839  2015-01-02  2058.90  2072.36\n",
       "36840  2015-01-05  2054.44  2054.44\n",
       "36841  2015-01-06  2022.15  2030.25\n",
       "36842  2015-01-07  2005.55  2029.61\n",
       "36843  2015-01-08  2030.61  2064.08\n",
       "...           ...      ...      ...\n",
       "38898  2023-03-09  3998.66  4017.81\n",
       "38899  2023-03-10  3912.77  3934.05\n",
       "38900  2023-03-13  3835.12  3905.05\n",
       "38901  2023-03-14  3894.01  3937.29\n",
       "38902  2023-03-15  3876.74  3894.26\n",
       "\n",
       "[2064 rows x 3 columns]"
      ]
     },
     "execution_count": 15,
     "metadata": {},
     "output_type": "execute_result"
    }
   ],
   "source": [
    "smp500 = smp500.iloc[:, [0,1,2]]\n",
    "smp500.iloc[36839:38903]"
   ]
  },
  {
   "cell_type": "code",
   "execution_count": 16,
   "metadata": {},
   "outputs": [
    {
     "data": {
      "text/plain": [
       "<AxesSubplot: >"
      ]
     },
     "execution_count": 16,
     "metadata": {},
     "output_type": "execute_result"
    },
    {
     "data": {
      "image/png": "[encoded data removed]",
      "text/plain": [
       "<Figure size 640x480 with 1 Axes>"
      ]
     },
     "metadata": {},
     "output_type": "display_data"
    }
   ],
   "source": [
    "bitcoin.iloc[0:365*3]['High'].plot()"
   ]
  },
  {
   "cell_type": "code",
   "execution_count": 17,
   "metadata": {},
   "outputs": [
    {
     "data": {
      "text/plain": [
       "<AxesSubplot: >"
      ]
     },
     "execution_count": 17,
     "metadata": {},
     "output_type": "execute_result"
    },
    {
     "data": {
      "image/png": "[encoded data removed]",
      "text/plain": [
       "<Figure size 640x480 with 1 Axes>"
      ]
     },
     "metadata": {},
     "output_type": "display_data"
    }
   ],
   "source": [
    "smp500.iloc[0:365*3]['High'].plot()"
   ]
  },
  {
   "cell_type": "code",
   "execution_count": 18,
   "metadata": {},
   "outputs": [
    {
     "data": {
      "text/plain": [
       "0       1789-05-01\n",
       "1       1789-06-01\n",
       "2       1789-07-01\n",
       "3       1789-08-01\n",
       "4       1789-09-01\n",
       "           ...    \n",
       "38898   2023-03-09\n",
       "38899   2023-03-10\n",
       "38900   2023-03-13\n",
       "38901   2023-03-14\n",
       "38902   2023-03-15\n",
       "Name: Date, Length: 38903, dtype: datetime64[ns]"
      ]
     },
     "execution_count": 18,
     "metadata": {},
     "output_type": "execute_result"
    }
   ],
   "source": [
    "\n",
    "smp500['Date'] =pd.to_datetime(smp500['Date'])\n",
    "smp500['Date']\n"
   ]
  },
  {
   "cell_type": "code",
   "execution_count": 19,
   "metadata": {},
   "outputs": [
    {
     "data": {
      "text/html": [
       "<div>\n",
       "<style scoped>\n",
       "    .dataframe tbody tr th:only-of-type {\n",
       "        vertical-align: middle;\n",
       "    }\n",
       "\n",
       "    .dataframe tbody tr th {\n",
       "        vertical-align: top;\n",
       "    }\n",
       "\n",
       "    .dataframe thead th {\n",
       "        text-align: right;\n",
       "    }\n",
       "</style>\n",
       "<table border=\"1\" class=\"dataframe\">\n",
       "  <thead>\n",
       "    <tr style=\"text-align: right;\">\n",
       "      <th></th>\n",
       "      <th>Date</th>\n",
       "      <th>Open</th>\n",
       "      <th>High</th>\n",
       "    </tr>\n",
       "    <tr>\n",
       "      <th>Date</th>\n",
       "      <th></th>\n",
       "      <th></th>\n",
       "      <th></th>\n",
       "    </tr>\n",
       "  </thead>\n",
       "  <tbody>\n",
       "    <tr>\n",
       "      <th>1789-05-01</th>\n",
       "      <td>1789-05-01</td>\n",
       "      <td>0.51</td>\n",
       "      <td>0.51</td>\n",
       "    </tr>\n",
       "    <tr>\n",
       "      <th>1789-06-01</th>\n",
       "      <td>1789-06-01</td>\n",
       "      <td>0.51</td>\n",
       "      <td>0.51</td>\n",
       "    </tr>\n",
       "    <tr>\n",
       "      <th>1789-07-01</th>\n",
       "      <td>1789-07-01</td>\n",
       "      <td>0.50</td>\n",
       "      <td>0.50</td>\n",
       "    </tr>\n",
       "    <tr>\n",
       "      <th>1789-08-01</th>\n",
       "      <td>1789-08-01</td>\n",
       "      <td>0.50</td>\n",
       "      <td>0.51</td>\n",
       "    </tr>\n",
       "    <tr>\n",
       "      <th>1789-09-01</th>\n",
       "      <td>1789-09-01</td>\n",
       "      <td>0.51</td>\n",
       "      <td>0.51</td>\n",
       "    </tr>\n",
       "  </tbody>\n",
       "</table>\n",
       "</div>"
      ],
      "text/plain": [
       "                 Date  Open  High\n",
       "Date                             \n",
       "1789-05-01 1789-05-01  0.51  0.51\n",
       "1789-06-01 1789-06-01  0.51  0.51\n",
       "1789-07-01 1789-07-01  0.50  0.50\n",
       "1789-08-01 1789-08-01  0.50  0.51\n",
       "1789-09-01 1789-09-01  0.51  0.51"
      ]
     },
     "execution_count": 19,
     "metadata": {},
     "output_type": "execute_result"
    }
   ],
   "source": [
    "smp500.index=smp500['Date']\n",
    "smp500.head()"
   ]
  },
  {
   "cell_type": "code",
   "execution_count": 20,
   "metadata": {},
   "outputs": [
    {
     "data": {
      "text/html": [
       "<div>\n",
       "<style scoped>\n",
       "    .dataframe tbody tr th:only-of-type {\n",
       "        vertical-align: middle;\n",
       "    }\n",
       "\n",
       "    .dataframe tbody tr th {\n",
       "        vertical-align: top;\n",
       "    }\n",
       "\n",
       "    .dataframe thead th {\n",
       "        text-align: right;\n",
       "    }\n",
       "</style>\n",
       "<table border=\"1\" class=\"dataframe\">\n",
       "  <thead>\n",
       "    <tr style=\"text-align: right;\">\n",
       "      <th></th>\n",
       "      <th>Year</th>\n",
       "      <th>Mon</th>\n",
       "      <th>Day</th>\n",
       "    </tr>\n",
       "    <tr>\n",
       "      <th>Date</th>\n",
       "      <th></th>\n",
       "      <th></th>\n",
       "      <th></th>\n",
       "    </tr>\n",
       "  </thead>\n",
       "  <tbody>\n",
       "    <tr>\n",
       "      <th>1789-05-01</th>\n",
       "      <td>1789</td>\n",
       "      <td>5</td>\n",
       "      <td>1</td>\n",
       "    </tr>\n",
       "    <tr>\n",
       "      <th>1789-06-01</th>\n",
       "      <td>1789</td>\n",
       "      <td>6</td>\n",
       "      <td>1</td>\n",
       "    </tr>\n",
       "    <tr>\n",
       "      <th>1789-07-01</th>\n",
       "      <td>1789</td>\n",
       "      <td>7</td>\n",
       "      <td>1</td>\n",
       "    </tr>\n",
       "    <tr>\n",
       "      <th>1789-08-01</th>\n",
       "      <td>1789</td>\n",
       "      <td>8</td>\n",
       "      <td>1</td>\n",
       "    </tr>\n",
       "    <tr>\n",
       "      <th>1789-09-01</th>\n",
       "      <td>1789</td>\n",
       "      <td>9</td>\n",
       "      <td>1</td>\n",
       "    </tr>\n",
       "  </tbody>\n",
       "</table>\n",
       "</div>"
      ],
      "text/plain": [
       "            Year  Mon  Day\n",
       "Date                      \n",
       "1789-05-01  1789    5    1\n",
       "1789-06-01  1789    6    1\n",
       "1789-07-01  1789    7    1\n",
       "1789-08-01  1789    8    1\n",
       "1789-09-01  1789    9    1"
      ]
     },
     "execution_count": 20,
     "metadata": {},
     "output_type": "execute_result"
    }
   ],
   "source": [
    "smp500['Year']=smp500.index.year\n",
    "smp500['Mon']=smp500.index.month\n",
    "smp500['Day']=smp500.index.day\n",
    "dates=smp500[['Year','Mon','Day']]\n",
    "dates.head()"
   ]
  }
 ],
 "metadata": {
  "kernelspec": {
   "display_name": "Python 3",
   "language": "python",
   "name": "python3"
  },
  "language_info": {
   "codemirror_mode": {
    "name": "ipython",
    "version": 3
   },
   "file_extension": ".py",
   "mimetype": "text/x-python",
   "name": "python",
   "nbconvert_exporter": "python",
   "pygments_lexer": "ipython3",
   "version": "3.10.6"
  },
  "orig_nbformat": 4
 },
 "nbformat": 4,
 "nbformat_minor": 2
}
