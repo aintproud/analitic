{
 "cells": [
  {
   "cell_type": "code",
   "execution_count": 2,
   "metadata": {},
   "outputs": [],
   "source": [
    "import pandas as pd"
   ]
  },
  {
   "cell_type": "code",
   "execution_count": 3,
   "metadata": {},
   "outputs": [],
   "source": [
    "bitcoin = pd.read_excel('GDAX.BTC-USD_790301_230316.xlsx')\n",
    "smp500 = pd.read_csv('^spx_d (1).csv')"
   ]
  },
  {
   "cell_type": "code",
   "execution_count": 4,
   "metadata": {},
   "outputs": [
    {
     "name": "stdout",
     "output_type": "stream",
     "text": [
      "          <TICKER> <PER>    <DATE>  <TIME>    <OPEN>    <HIGH>     <LOW>  \\\n",
      "0     GDAX.BTC-USD     D  20141201       0    300.00    370.00    300.00   \n",
      "1     GDAX.BTC-USD     D  20141202       0    377.00    378.00    377.00   \n",
      "2     GDAX.BTC-USD     D  20141203       0    377.90    378.00    377.01   \n",
      "3     GDAX.BTC-USD     D  20141204       0    377.10    377.10    377.10   \n",
      "4     GDAX.BTC-USD     D  20141206       0    378.00    378.00    378.00   \n",
      "...            ...   ...       ...     ...       ...       ...       ...   \n",
      "2985  GDAX.BTC-USD     D  20230312       0  20619.34  22276.69  20446.24   \n",
      "2986  GDAX.BTC-USD     D  20230313       0  22216.02  24710.00  21882.63   \n",
      "2987  GDAX.BTC-USD     D  20230314       0  24220.00  26553.90  24052.00   \n",
      "2988  GDAX.BTC-USD     D  20230315       0  24761.61  25300.00  23931.01   \n",
      "2989  GDAX.BTC-USD     D  20230316       0  24384.15  25043.97  24301.00   \n",
      "\n",
      "       <CLOSE>  <VOL>  \n",
      "0       370.00      0  \n",
      "1       378.00     15  \n",
      "2       378.00      0  \n",
      "3       377.10      0  \n",
      "4       378.00      0  \n",
      "...        ...    ...  \n",
      "2985  22219.08  19156  \n",
      "2986  24220.00  38678  \n",
      "2987  24762.65  44120  \n",
      "2988  24377.16  30125  \n",
      "2989  25032.76     49  \n",
      "\n",
      "[2990 rows x 9 columns]\n"
     ]
    }
   ],
   "source": [
    "print(bitcoin)"
   ]
  },
  {
   "cell_type": "code",
   "execution_count": 5,
   "metadata": {},
   "outputs": [
    {
     "name": "stdout",
     "output_type": "stream",
     "text": [
      "             Date     Open     High      Low    Close        Volume\n",
      "0      1789-05-01     0.51     0.51     0.51     0.51           NaN\n",
      "1      1789-06-01     0.51     0.51     0.51     0.51           NaN\n",
      "2      1789-07-01     0.50     0.50     0.50     0.50           NaN\n",
      "3      1789-08-01     0.50     0.51     0.50     0.51           NaN\n",
      "4      1789-09-01     0.51     0.51     0.50     0.51           NaN\n",
      "...           ...      ...      ...      ...      ...           ...\n",
      "38898  2023-03-09  3998.66  4017.81  3908.70  3918.32  2.610567e+09\n",
      "38899  2023-03-10  3912.77  3934.05  3846.32  3861.59  3.224150e+09\n",
      "38900  2023-03-13  3835.12  3905.05  3808.86  3855.76  3.998506e+09\n",
      "38901  2023-03-14  3894.01  3937.29  3873.63  3919.29  3.434042e+09\n",
      "38902  2023-03-15  3876.74  3894.26  3838.24  3891.93  3.690103e+09\n",
      "\n",
      "[38903 rows x 6 columns]\n"
     ]
    }
   ],
   "source": [
    "print(smp500)"
   ]
  },
  {
   "cell_type": "code",
   "execution_count": null,
   "metadata": {},
   "outputs": [],
   "source": []
  }
 ],
 "metadata": {
  "kernelspec": {
   "display_name": "Python 3",
   "language": "python",
   "name": "python3"
  },
  "language_info": {
   "codemirror_mode": {
    "name": "ipython",
    "version": 3
   },
   "file_extension": ".py",
   "mimetype": "text/x-python",
   "name": "python",
   "nbconvert_exporter": "python",
   "pygments_lexer": "ipython3",
   "version": "3.10.6"
  },
  "orig_nbformat": 4
 },
 "nbformat": 4,
 "nbformat_minor": 2
}
